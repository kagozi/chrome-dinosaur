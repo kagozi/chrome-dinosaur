{
 "cells": [
  {
   "cell_type": "markdown",
   "metadata": {},
   "source": [
    "##### 1. Import the dependencies\n",
    "**For, collab, uncomment and install the packages specified below**"
   ]
  },
  {
   "cell_type": "code",
   "execution_count": 9,
   "metadata": {},
   "outputs": [],
   "source": [
    "from mss import mss # used for screen capture \n",
    "# import pydirectinput # used for keyboard input\n",
    "import keyboard\n",
    "import cv2 #used for image processing\n",
    "import numpy as np \n",
    "import pytesseract #used for text recognition \n",
    "from matplotlib import pyplot as plt\n",
    "import time\n",
    "from gym import Env # used for creating custom environment\n",
    "from gym.spaces import Box, Discrete # used for defining action and observation space"
   ]
  },
  {
   "cell_type": "markdown",
   "metadata": {},
   "source": [
    "#### 2. Build the Environment"
   ]
  },
  {
   "cell_type": "markdown",
   "metadata": {},
   "source": [
    "2.1 Create Environment"
   ]
  },
  {
   "cell_type": "code",
   "execution_count": null,
   "metadata": {},
   "outputs": [],
   "source": [
    "class ChromeDinoEnv(Env):\n",
    "    def __init__(self):\n",
    "        super(ChromeDinoEnv, self).__init__()\n",
    "        \n",
    "        # Define action space: 0 = do nothing, 1 = jump\n",
    "        self.action_space = Discrete(3)\n",
    "        \n",
    "        # Define observation space (screen capture dimensions)\n",
    "        self.observation_space = Box(low=0, high=255, shape=(300, 600, 3), dtype=np.uint8)\n",
    "        \n",
    "        # Screen capture setup\n",
    "        self.sct = mss()\n",
    "        self.game_location = {'top': 110, 'left': 50, 'width': 600, 'height': 500}\n",
    "        self.done_location = {'top': 200, 'left': 600, 'width': 600, 'height': 70}\n",
    "        \n",
    "        # Initialize game state\n",
    "        self.game_over = False\n",
    "        \n",
    "\n",
    "    def reset(self):\n",
    "        # Reset the game (press space to restart)\n",
    "        keyboard.press_and_release('space')\n",
    "        time.sleep(1)  # Wait for the game to restart\n",
    "        \n",
    "        # Capture the initial observation\n",
    "        observation = self._get_observation()\n",
    "        self.game_over = False\n",
    "        return observation\n",
    "\n",
    "    def step(self, action):\n",
    "        # Perform the action (0 = do nothing, 1 = jump, 2 = duck\n",
    "        if action == 1:\n",
    "            keyboard.press_and_release('up')\n",
    "        elif action == 2:\n",
    "            keyboard.press_and_release('down')\n",
    "        # Wait for a short time to allow the game to update\n",
    "        time.sleep(0.1)\n",
    "        \n",
    "        # Capture the new observation\n",
    "        observation = self._get_observation()\n",
    "        \n",
    "        # Check if the game is over\n",
    "        self.game_over, _ = self._check_game_over()\n",
    "        \n",
    "        # Define reward and done flag\n",
    "        reward = 1 if not self.game_over else -10\n",
    "        done = self.game_over\n",
    "        \n",
    "        return observation, reward, done\n",
    "\n",
    "    def _get_observation(self):\n",
    "        # Capture the screen\n",
    "        raw = np.array(self.sct.grab(self.game_location))[:,:,:3].astype(np.uint8)\n",
    "        gray = cv2.cvtColor(raw, cv2.COLOR_BGR2GRAY)\n",
    "        resized = cv2.resize(gray, (100,83))\n",
    "        channel = np.reshape(resized, (1,83,100))\n",
    "        return channel\n",
    "        \n",
    "        # return img\n",
    "\n",
    "    def _check_game_over(self):\n",
    "        # Use OCR to detect the \"Game Over\" text\n",
    "        # gray = cv2.cvtColor(observation, cv2.COLOR_RGB2GRAY)\n",
    "        done_cap = np.array(self.sct.grab(self.done_location))\n",
    "        text = pytesseract.image_to_string(done_cap).lower()\n",
    "        \n",
    "        # Check if \"Game Over\" is in the text\n",
    "        done = False\n",
    "        if \"game\" in text:\n",
    "            done = True\n",
    "        return done, done_cap\n",
    "\n",
    "    def render(self, mode='human'):\n",
    "        # Display the current observation (optional)\n",
    "        observation = self._get_observation()\n",
    "        \n",
    "        # Reshape the observation to (83, 100) for display\n",
    "        observation_2d = observation.squeeze()  # Remove the first dimension (1, 83, 100) -> (83, 100)\n",
    "        \n",
    "        # Normalize the observation to [0, 255] for display\n",
    "        observation_2d = (observation_2d * 255).astype(np.uint8)\n",
    "        \n",
    "        cv2.imshow('Game', observation_2d)\n",
    "        cv2.waitKey(1)\n",
    "\n",
    "    def close(self):\n",
    "        # Clean up\n",
    "        cv2.destroyAllWindows()"
   ]
  },
  {
   "cell_type": "code",
   "execution_count": null,
   "metadata": {},
   "outputs": [],
   "source": [
    "time.sleep(4)\n",
    "env = ChromeDinoEnv()"
   ]
  },
  {
   "cell_type": "code",
   "execution_count": 76,
   "metadata": {},
   "outputs": [],
   "source": [
    "time.sleep(4)\n",
    "obs = env._get_observation()"
   ]
  },
  {
   "cell_type": "code",
   "execution_count": 77,
   "metadata": {},
   "outputs": [
    {
     "data": {
      "text/plain": [
       "<matplotlib.image.AxesImage at 0x11cabc400>"
      ]
     },
     "execution_count": 77,
     "metadata": {},
     "output_type": "execute_result"
    },
    {
     "data": {
      "image/png": "[encoded data removed]",
      "text/plain": [
       "<Figure size 640x480 with 1 Axes>"
      ]
     },
     "metadata": {},
     "output_type": "display_data"
    }
   ],
   "source": [
    "plt.imshow(cv2.cvtColor(obs[0], cv2.COLOR_GRAY2BGR))"
   ]
  },
  {
   "cell_type": "code",
   "execution_count": 78,
   "metadata": {},
   "outputs": [
    {
     "data": {
      "text/plain": [
       "True"
      ]
     },
     "execution_count": 78,
     "metadata": {},
     "output_type": "execute_result"
    }
   ],
   "source": [
    "## Save the image\n",
    "cv2.imwrite('dino-observation.png', obs[0])"
   ]
  },
  {
   "cell_type": "code",
   "execution_count": 48,
   "metadata": {},
   "outputs": [],
   "source": [
    "time.sleep(4)\n",
    "done, done_cap = env._check_game_over()"
   ]
  },
  {
   "cell_type": "code",
   "execution_count": 49,
   "metadata": {},
   "outputs": [
    {
     "data": {
      "text/plain": [
       "True"
      ]
     },
     "execution_count": 49,
     "metadata": {},
     "output_type": "execute_result"
    }
   ],
   "source": [
    "done"
   ]
  },
  {
   "cell_type": "code",
   "execution_count": 50,
   "metadata": {},
   "outputs": [
    {
     "data": {
      "text/plain": [
       "<matplotlib.image.AxesImage at 0x11a156490>"
      ]
     },
     "execution_count": 50,
     "metadata": {},
     "output_type": "execute_result"
    },
    {
     "data": {
      "image/png": "[encoded data removed]",
      "text/plain": [
       "<Figure size 640x480 with 1 Axes>"
      ]
     },
     "metadata": {},
     "output_type": "display_data"
    }
   ],
   "source": [
    "plt.imshow(cv2.cvtColor(done_cap, cv2.COLOR_BGR2RGB))"
   ]
  },
  {
   "cell_type": "code",
   "execution_count": 79,
   "metadata": {},
   "outputs": [
    {
     "data": {
      "text/plain": [
       "True"
      ]
     },
     "execution_count": 79,
     "metadata": {},
     "output_type": "execute_result"
    }
   ],
   "source": [
    "## Save the image\n",
    "cv2.imwrite('dino-done.png', done_cap)"
   ]
  },
  {
   "cell_type": "markdown",
   "metadata": {},
   "source": [
    "#### Add Logging for a simple Q-learning example"
   ]
  },
  {
   "cell_type": "code",
   "execution_count": 80,
   "metadata": {},
   "outputs": [],
   "source": [
    "import logging\n",
    "\n",
    "# Set up logging\n",
    "logging.basicConfig(\n",
    "    level=logging.INFO,\n",
    "    format=\"%(asctime)s [%(levelname)s] %(message)s\",\n",
    "    handlers=[\n",
    "        logging.FileHandler(\"./qlearning/dino_rl_training.log\"),\n",
    "        logging.StreamHandler()\n",
    "    ]\n",
    ")\n",
    "\n",
    "\n",
    "# Initialize lists to store performance metrics\n",
    "episode_rewards = []\n",
    "episode_epsilons = []"
   ]
  },
  {
   "cell_type": "markdown",
   "metadata": {},
   "source": [
    "#### Train and save the best model, log the output for each episode"
   ]
  },
  {
   "cell_type": "code",
   "execution_count": null,
   "metadata": {},
   "outputs": [],
   "source": [
    "from collections import defaultdict\n",
    "import random\n",
    "import pickle  # For saving the Q-table\n",
    "# Initialize Q-table\n",
    "Q = defaultdict(lambda: np.zeros(env.action_space.n))\n",
    "\n",
    "# Hyperparameters\n",
    "alpha = 0.1  # Learning rate\n",
    "gamma = 0.99  # Discount factor\n",
    "epsilon = 1.0  # Exploration rate\n",
    "epsilon_decay = 0.995\n",
    "epsilon_min = 0.01\n",
    "\n",
    "\n",
    "\n",
    "# Initialize variables to track the best performance\n",
    "best_reward = -np.inf\n",
    "best_model = None\n",
    "\n",
    "# Training loop\n",
    "time.sleep(5)\n",
    "num_episodes = 1000\n",
    "for episode in range(num_episodes):\n",
    "    observation = env.reset()\n",
    "    done = False\n",
    "    total_reward = 0\n",
    "    \n",
    "    while not done:\n",
    "        # Epsilon-greedy action selection\n",
    "        if random.uniform(0, 1) < epsilon:\n",
    "            action = env.action_space.sample()  # Explore\n",
    "        else:\n",
    "            action = np.argmax(Q[tuple(observation.flatten())])  # Exploit\n",
    "        \n",
    "        # Take the action\n",
    "        next_observation, reward, done = env.step(action)\n",
    "        \n",
    "        # Update Q-value\n",
    "        Q[tuple(observation.flatten())][action] += alpha * (\n",
    "            reward + gamma * np.max(Q[tuple(next_observation.flatten())]) - Q[tuple(observation.flatten())][action])\n",
    "        \n",
    "        observation = next_observation\n",
    "        total_reward += reward\n",
    "    # Decay epsilon\n",
    "    epsilon = max(epsilon_min, epsilon * epsilon_decay)\n",
    "    \n",
    "    # Log episode details\n",
    "    logging.info(f\"Episode: {episode + 1}, Total Reward: {total_reward}, Epsilon: {epsilon}\")\n",
    "    \n",
    "    # Store metrics for plotting\n",
    "    episode_rewards.append(total_reward)\n",
    "    episode_epsilons.append(epsilon)\n",
    "    \n",
    "    # Check if this is the best model so far\n",
    "    if total_reward > best_reward:\n",
    "        best_reward = total_reward\n",
    "        best_model = Q.copy()  # Save a copy of the Q-table\n",
    "        logging.info(f\"New best model found with reward: {best_reward}\")\n",
    "        \n",
    "        # Save the best model to a file\n",
    "        with open(\"./qlearning/best_model_qlearning.pkl\", \"wb\") as f:\n",
    "            pickle.dump(best_model, f)\n",
    "\n",
    "env.close()"
   ]
  },
  {
   "cell_type": "markdown",
   "metadata": {},
   "source": [
    "### Simple plot on perfomance after each n episodes"
   ]
  },
  {
   "cell_type": "code",
   "execution_count": 82,
   "metadata": {},
   "outputs": [
    {
     "data": {
      "image/png": "[encoded data removed]",
      "text/plain": [
       "<Figure size 1200x600 with 2 Axes>"
      ]
     },
     "metadata": {},
     "output_type": "display_data"
    }
   ],
   "source": [
    "import matplotlib.pyplot as plt\n",
    "# Plotting the performance\n",
    "plt.figure(figsize=(12, 6))\n",
    "\n",
    "# Plot episode rewards\n",
    "plt.subplot(1, 2, 1)\n",
    "plt.plot(episode_rewards, label=\"Episode Reward\")\n",
    "plt.xlabel(\"Episode\")\n",
    "plt.ylabel(\"Total Reward\")\n",
    "plt.title(\"Episode Rewards Over Time\")\n",
    "plt.legend()\n",
    "\n",
    "# Plot epsilon values\n",
    "plt.subplot(1, 2, 2)\n",
    "plt.plot(episode_epsilons, label=\"Epsilon\", color=\"orange\")\n",
    "plt.xlabel(\"Episode\")\n",
    "plt.ylabel(\"Epsilon\")\n",
    "plt.title(\"Epsilon Decay Over Time\")\n",
    "plt.legend()\n",
    "\n",
    "plt.tight_layout()\n",
    "plt.show()"
   ]
  },
  {
   "cell_type": "markdown",
   "metadata": {},
   "source": [
    "#### 3. Loading the Best Model"
   ]
  },
  {
   "cell_type": "code",
   "execution_count": null,
   "metadata": {},
   "outputs": [],
   "source": [
    "# Load the best model\n",
    "with open(\"./qlearning/best_model.pkl\", \"rb\") as f:\n",
    "    best_model = pickle.load(f)\n",
    "\n",
    "# Use the best model for testing\n",
    "observation = env.reset()\n",
    "done = False\n",
    "total_reward = 0\n",
    "\n",
    "while not done:\n",
    "    # Use the best model to select actions\n",
    "    action = np.argmax(best_model[tuple(observation.flatten())])\n",
    "    \n",
    "    # Take the action\n",
    "    observation, reward, done = env.step(action)\n",
    "    total_reward += reward\n",
    "\n",
    "print(f\"Total Reward using the best model: {total_reward}\")\n",
    "env.close()"
   ]
  }
 ],
 "metadata": {
  "kernelspec": {
   "display_name": ".venv",
   "language": "python",
   "name": "python3"
  },
  "language_info": {
   "codemirror_mode": {
    "name": "ipython",
    "version": 3
   },
   "file_extension": ".py",
   "mimetype": "text/x-python",
   "name": "python",
   "nbconvert_exporter": "python",
   "pygments_lexer": "ipython3",
   "version": "3.9.6"
  }
 },
 "nbformat": 4,
 "nbformat_minor": 4
}
